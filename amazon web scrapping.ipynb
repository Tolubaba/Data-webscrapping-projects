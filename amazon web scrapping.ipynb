{
 "cells": [
  {
   "cell_type": "code",
   "execution_count": null,
   "id": "cdca8ce5",
   "metadata": {},
   "outputs": [],
   "source": [
    "from bs4 import BeautifulSoup\n",
    "import requests\n",
    "import time\n",
    "import datetime\n",
    "import smtplib"
   ]
  },
  {
   "cell_type": "code",
   "execution_count": null,
   "id": "3d09a239",
   "metadata": {},
   "outputs": [],
   "source": [
    "\n",
    "    with open (r'amazon web scrapper data set.csv','w',newline='',encoding='UTF8') as f:\n",
    "        writer=csv.writer(f)\n",
    "        writer.writerow(header)\n",
    "        writer.writerow(data)\n",
    "        \n",
    "        \n",
    "    "
   ]
  },
  {
   "cell_type": "code",
   "execution_count": 64,
   "id": "38816b37",
   "metadata": {},
   "outputs": [],
   "source": [
    "def check_price():\n",
    "    url=('https://www.amazon.com/Funny-Data-Systems-Business-Analyst/dp/B07FNW9FGJ/ref=sr_1_19?crid=31I2N0BFGAAQA&keywords=data%2B%2Bfind%2Btshirt&qid=1646865982&sprefix=data%2B%2Bfind%2Btshirt%2Caps%2C341&sr=8-19&customId=B0752XJYNL&th=1')\n",
    "    headers={\"User-Agent\": \"Mozilla/5.0 (Windows NT 10.0; Win64; x64) AppleWebKit/537.36 (KHTML, like Gecko) Chrome/98.0.4758.102 Safari/537.36\", \n",
    "    \"X-Amzn-Trace-Id\": \"Root=1-62292f7d-2cb1fc145bd4b1dd11bff49d\"}\n",
    "    page=requests.get(url,headers=headers)\n",
    "    soup1=BeautifulSoup(page.content,'lxml')\n",
    "    soup2=BeautifulSoup(soup1.prettify(),'html.parser')\n",
    "    title=soup2.find(id='productTitle').get_text()\n",
    "    price= soup2.find(class_=\"a-offscreen\").get_text()\n",
    "    gender=soup2.find(class_='a-text-left a-size-base').get_text().strip()\n",
    "    price=price.strip()[1:]\n",
    "    title=title.strip()\n",
    "    import datetime\n",
    "    today= datetime.date.today()\n",
    "    \n",
    "    import csv\n",
    "    \n",
    "    header =['tilte','price','gender','date']\n",
    "\n",
    "    data=[title,price,gender,today]\n",
    "    \n",
    "    with open (r'amazon web scrapper data set.csv','a+',newline='',encoding='UTF8') as f:\n",
    "        writer=csv.writer(f)\n",
    "        writer.writerow(data)   "
   ]
  },
  {
   "cell_type": "code",
   "execution_count": null,
   "id": "28e75a70",
   "metadata": {},
   "outputs": [],
   "source": [
    "while(True):\n",
    "    check_price()\n",
    "    time.sleep(5)"
   ]
  },
  {
   "cell_type": "code",
   "execution_count": 63,
   "id": "a523cdee",
   "metadata": {},
   "outputs": [
    {
     "name": "stdout",
     "output_type": "stream",
     "text": [
      "                                                title  price gender  \\\n",
      "0   Funny Got Data MIS Data Systems Business Analy...  16.99    Men   \n",
      "1   Funny Got Data MIS Data Systems Business Analy...  16.99    Men   \n",
      "2   Funny Got Data MIS Data Systems Business Analy...  16.99    Men   \n",
      "3   Funny Got Data MIS Data Systems Business Analy...  16.99    Men   \n",
      "4   Funny Got Data MIS Data Systems Business Analy...  16.99    Men   \n",
      "5   Funny Got Data MIS Data Systems Business Analy...  16.99    Men   \n",
      "6   Funny Got Data MIS Data Systems Business Analy...  16.99    Men   \n",
      "7   Funny Got Data MIS Data Systems Business Analy...  16.99    Men   \n",
      "8   Funny Got Data MIS Data Systems Business Analy...  16.99    Men   \n",
      "9   Funny Got Data MIS Data Systems Business Analy...  16.99    Men   \n",
      "10  Funny Got Data MIS Data Systems Business Analy...  16.99    Men   \n",
      "11  Funny Got Data MIS Data Systems Business Analy...  16.99    Men   \n",
      "12  Funny Got Data MIS Data Systems Business Analy...  16.99    Men   \n",
      "13  Funny Got Data MIS Data Systems Business Analy...  16.99    Men   \n",
      "14  Funny Got Data MIS Data Systems Business Analy...  16.99    Men   \n",
      "15  Funny Got Data MIS Data Systems Business Analy...  16.99    Men   \n",
      "16  Funny Got Data MIS Data Systems Business Analy...  16.99    Men   \n",
      "17  Funny Got Data MIS Data Systems Business Analy...  16.99    Men   \n",
      "18  Funny Got Data MIS Data Systems Business Analy...  16.99    Men   \n",
      "\n",
      "          date  \n",
      "0   2022-03-10  \n",
      "1   2022-03-10  \n",
      "2   2022-03-10  \n",
      "3   2022-03-10  \n",
      "4   2022-03-10  \n",
      "5   2022-03-10  \n",
      "6   2022-03-10  \n",
      "7   2022-03-10  \n",
      "8   2022-03-10  \n",
      "9   2022-03-10  \n",
      "10  2022-03-10  \n",
      "11  2022-03-10  \n",
      "12  2022-03-11  \n",
      "13  2022-03-11  \n",
      "14  2022-03-11  \n",
      "15  2022-03-11  \n",
      "16  2022-03-11  \n",
      "17  2022-03-11  \n",
      "18  2022-03-11  \n"
     ]
    }
   ],
   "source": [
    "import pandas as pd\n",
    "df= pd.read_csv(r'C:\\Users\\TOLU\\Desktop\\New folder (2)\\amazon web scrapper data set.csv')\n",
    "print(df)"
   ]
  },
  {
   "cell_type": "code",
   "execution_count": null,
   "id": "111689fe",
   "metadata": {},
   "outputs": [],
   "source": []
  }
 ],
 "metadata": {
  "kernelspec": {
   "display_name": "Python 3 (ipykernel)",
   "language": "python",
   "name": "python3"
  },
  "language_info": {
   "codemirror_mode": {
    "name": "ipython",
    "version": 3
   },
   "file_extension": ".py",
   "mimetype": "text/x-python",
   "name": "python",
   "nbconvert_exporter": "python",
   "pygments_lexer": "ipython3",
   "version": "3.9.7"
  }
 },
 "nbformat": 4,
 "nbformat_minor": 5
}
