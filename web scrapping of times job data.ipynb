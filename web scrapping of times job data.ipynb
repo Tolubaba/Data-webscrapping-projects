{
 "cells": [
  {
   "cell_type": "code",
   "execution_count": null,
   "id": "f1df31df",
   "metadata": {},
   "outputs": [],
   "source": [
    "from bs4 import BeautifulSoup\n",
    "import requests\n",
    "import time\n",
    "print('put some skilss thta you are not familiar with')\n",
    "unfamiliar_skill=input('>')\n",
    "print(f\" filtering out {unfamiliar_skill}\")\n",
    "def find_jobs():\n",
    "    html_text= requests.get('https://www.timesjobs.com/candidate/job-search.html?searchType=personalizedSearch&from=submit&txtKeywords=python&txtLocation=').text\n",
    "    soup=BeautifulSoup(html_text,'lxml')\n",
    "    jobs=soup.find_all('li',class_='clearfix job-bx wht-shd-bx')\n",
    "\n",
    "\n",
    " \n",
    "    for index, job in enumerate (jobs):\n",
    "        published_date= job.find('span',class_='sim-posted').span.text\n",
    "        if 'few' in published_date:\n",
    "            skills=job.find('span',class_='srp-skills').text .replace(' ','')\n",
    "            company_name=job.find('h3',class_='joblist-comp-name').text.replace(' ','')\n",
    "            more_info=job.header.h2.a['href']\n",
    "            if  unfamiliar_skill not in skills:\n",
    "                with open(r'timesjobdata','w',newline='',encoding='UTF8') as f:\n",
    "                    f.write (f\" company name:{company_name.strip()}\")\n",
    "                    f.write (f\" required skills :{skills.strip()}\")\n",
    "                    f.write(f\"more info:{more_info}\")\n",
    " \n",
    "                print(f'file saved :{index}')\n",
    "if __name__=='__main__':\n",
    "    while True:\n",
    "        find_jobs()\n",
    "        time_wait=10\n",
    "        print(f'waiting {time_wait} minutes...')\n",
    "        time.sleep(time_wait*60)\n",
    "\n",
    "        \n",
    "    "
   ]
  },
  {
   "cell_type": "code",
   "execution_count": null,
   "id": "cedebcdf",
   "metadata": {},
   "outputs": [],
   "source": []
  }
 ],
 "metadata": {
  "kernelspec": {
   "display_name": "Python 3 (ipykernel)",
   "language": "python",
   "name": "python3"
  },
  "language_info": {
   "codemirror_mode": {
    "name": "ipython",
    "version": 3
   },
   "file_extension": ".py",
   "mimetype": "text/x-python",
   "name": "python",
   "nbconvert_exporter": "python",
   "pygments_lexer": "ipython3",
   "version": "3.9.7"
  }
 },
 "nbformat": 4,
 "nbformat_minor": 5
}
